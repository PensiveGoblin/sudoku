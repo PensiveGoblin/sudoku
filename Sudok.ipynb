{
 "cells": [
  {
   "cell_type": "code",
   "execution_count": 205,
   "metadata": {},
   "outputs": [],
   "source": [
    "import numpy as np\n",
    "import random"
   ]
  },
  {
   "cell_type": "code",
   "execution_count": 206,
   "metadata": {},
   "outputs": [
    {
     "name": "stdout",
     "output_type": "stream",
     "text": [
      "[[0 0 0 0 4 0 0 2 6]\n",
      " [3 0 9 7 2 0 0 0 0]\n",
      " [0 5 0 0 0 0 4 0 0]\n",
      " [0 0 7 9 1 3 0 0 0]\n",
      " [6 0 3 0 0 0 0 0 0]\n",
      " [0 0 0 0 0 0 0 0 2]\n",
      " [1 0 0 0 0 0 0 8 0]\n",
      " [0 0 0 0 0 8 0 0 9]\n",
      " [0 9 0 0 0 0 7 0 4]]\n"
     ]
    }
   ],
   "source": [
    "grilleEasy = np.array([[0,3,0,8,7,0,5,4,0],[2,7,0,0,0,0,0,0,1],[9,0,8,0,1,0,0,7,0],[0,0,0,4,6,9,1,5,0],[0,0,0,2,0,0,0,9,0],[1,6,9,7,3,0,0,8,4],[0,0,7,0,0,0,4,0,5],[0,0,0,1,5,0,7,0,3],[0,1,0,3,4,0,0,2,8]])\n",
    "grilleExpert = np.array([[7,0,0,0,8,0,0,0,0],[0,0,5,0,2,0,0,0,9],[0,0,0,0,0,0,3,0,0],[5,0,0,4,0,0,0,0,0],[0,0,2,0,0,0,8,6,0],[1,0,0,0,0,0,0,0,4],[0,2,0,0,0,7,4,0,0],[0,0,0,0,9,0,2,0,0],[4,0,3,0,0,5,0,0,1]])\n",
    "grilleExpert\n",
    "grilleHard = np.array([[0,0,0,4,7,0,0,0,0],[5,0,0,0,6,0,7,3,0],[0,0,0,0,0,0,2,1,9],[0,0,0,0,0,5,9,0,0],[0,0,0,0,2,6,0,0,1],[0,0,6,0,9,1,0,7,0],[4,0,7,0,0,0,5,0,8],[0,0,0,0,0,0,0,0,2],[6,8,0,0,0,0,0,0,0]])\n",
    "grilleHard\n",
    "grilleExpert2=np.array([[0,0,0,0,4,0,0,2,6],[3,0,9,7,2,0,0,0,0],[0,5,0,0,0,0,4,0,0],[0,0,7,9,1,3,0,0,0],[6,0,3,0,0,0,0,0,0],[0,0,0,0,0,0,0,0,2],[1,0,0,0,0,0,0,8,0],[0,0,0,0,0,8,0,0,9],[0,9,0,0,0,0,7,0,4]])\n",
    "print(grilleExpert2)\n"
   ]
  },
  {
   "cell_type": "code",
   "execution_count": 161,
   "metadata": {},
   "outputs": [],
   "source": [
    "def get_line(x,y,array):\n",
    "    return array[x]\n",
    "                 \n",
    "def get_rest_line(x,y,array):\n",
    "    return np.delete(array[x,:],y)\n",
    "    \n",
    "def get_rest_column(x,y,array):\n",
    "    return np.delete(array[:,y],x)\n",
    "\n",
    "def get_rest_box(x,y,array):\n",
    "    endx = 3+int(x/3)*3\n",
    "    begx = 0+int(x/3)*3\n",
    "    endy = 3+int(y/3)*3\n",
    "    begy = 0+int(y/3)*3\n",
    "    box = np.array([[]])\n",
    "    for i in range(begx,endx):\n",
    "        for j in range(begy,endy):\n",
    "            if (i!=x)|(j!=y):\n",
    "                box = np.append(box,array[i,j])\n",
    "                \n",
    "    return box\n",
    "\n",
    "def get_absent_numbers(array):\n",
    "    aNum = np.array([[]])\n",
    "    for i in range(1,10):\n",
    "        if not(i in array):\n",
    "            aNum = np.append(aNum, i)\n",
    "    while len(aNum)<9:\n",
    "        aNum = np.append(aNum, 0)\n",
    "    return aNum\n",
    "    "
   ]
  },
  {
   "cell_type": "code",
   "execution_count": 247,
   "metadata": {},
   "outputs": [],
   "source": [
    "def create_possibility_vec(x,y,array):\n",
    "    tempVec = np.append(get_rest_column(x,y,array),get_rest_line(x,y,array))\n",
    "    tempVec = np.append(tempVec, get_rest_box(x,y,array),)\n",
    "    return get_absent_numbers(tempVec)\n",
    "\n",
    "def check_matrix(grille):\n",
    "    for i in range(grille.shape[0]):\n",
    "        for j in range(grille.shape[1]):\n",
    "            if grille[i,j] !=0:\n",
    "                possVec = create_possibility_vec(i,j,grille)\n",
    "                if not(grille[i,j] in possVec):\n",
    "                    return False\n",
    "    return True\n",
    "\n",
    "def get_coor_vec_2_poss(possMat):\n",
    "    coor_vec_2_poss=np.array([[]])\n",
    "    for i in range(possMat.shape[0]):\n",
    "        for j in range(possMat.shape[1]):\n",
    "            if np.count_nonzero(possMat[i,j,:])==2:\n",
    "                if coor_vec_2_poss.shape[1] == 0:\n",
    "                    coor_vec_2_poss= np.array([[i,j]])\n",
    "                else:\n",
    "                    coor_vec_2_poss = np.concatenate((coor_vec_2_poss, np.array([[i,j]])), axis = 0)\n",
    "    return coor_vec_2_poss\n",
    "\"\"\"\n",
    "def get_coor_vec_low_poss(possMat):\n",
    "    coor_vec_low_poss=np.array([[]])\n",
    "    for i in range(possMat.shape[0]):\n",
    "        for j in range(possMat.shape[1]):\n",
    "            if np.count_nonzero(possMat[i,j,:])>1 and np.count_nonzero(possMat[i,j,:])<5:\n",
    "                if coor_vec_low_poss.shape[1] == 0:\n",
    "                    coor_vec_low_poss= np.array([[i,j]])\n",
    "                else:\n",
    "                    coor_vec_low_poss = np.concatenate((coor_vec_low_poss, np.array([[i,j]])), axis = 0)\n",
    "    return coor_vec_low_poss\n",
    "\"\"\"\n",
    "def get_coor_vec_low_poss(possMat):\n",
    "    coor_vec_low_poss=np.array([[]])\n",
    "    for i in range(possMat.shape[0]):\n",
    "        for j in range(possMat.shape[1]):\n",
    "            if np.count_nonzero(possMat[i,j,:])>1 and np.count_nonzero(possMat[i,j,:])<5:\n",
    "                if coor_vec_low_poss.shape[1] == 0:\n",
    "                    coor_vec_low_poss= np.array([[i,j,np.count_nonzero(possMat[i,j,:])]])\n",
    "                else:\n",
    "                    coor_vec_low_poss = np.concatenate((coor_vec_low_poss, np.array([[i,j,np.count_nonzero(possMat[i,j,:])]])), axis = 0)\n",
    "    return coor_vec_low_poss\n",
    "\n",
    "def get_a_number_yolo(grille, coor_vec_2_poss, possMat, elementNumber):\n",
    "    x = int(coor_vec_2_poss.shape[0]*np.random.rand())\n",
    "    #print(x)\n",
    "    vec = coor_vec_2_poss[x,:]\n",
    "    #print(vec[0])\n",
    "    #print(vec[1])\n",
    "    grille[vec[0],vec[1]] = possMat[vec[0],vec[1],random.randint(0, vec[2]-1)]\n",
    "    possMat[vec[0],vec[1],:] = np.zeros(9)\n",
    "    return grille, possMat\n"
   ]
  },
  {
   "cell_type": "code",
   "execution_count": 248,
   "metadata": {},
   "outputs": [
    {
     "name": "stdout",
     "output_type": "stream",
     "text": [
      "[7. 8. 0. 0. 0. 0. 0. 0. 0.]\n",
      "[0. 0. 0. 0. 0. 0. 0. 0. 0.]\n"
     ]
    }
   ],
   "source": [
    "get_coor_vec_2_poss(possMat)[0]\n",
    "print(possMat[get_coor_vec_2_poss(possMat)[0][0],get_coor_vec_2_poss(possMat)[0][1],:])\n",
    "print(np.zeros(9))"
   ]
  },
  {
   "cell_type": "code",
   "execution_count": 249,
   "metadata": {},
   "outputs": [],
   "source": [
    "\"\"\"\"\n",
    "def get_absent_numbers(array):\n",
    "    aNum = np.array([[]])\n",
    "    for i in range(1,10):\n",
    "        if not(i in array):\n",
    "            aNum = np.append(aNum, i)\n",
    "    for i in range(aNum.shape[0], 9):\n",
    "        aNum = np.append(aNum, 0)\n",
    "    return aNum\n",
    "\"\"\"\n",
    "def create_possibility_matrix(array):\n",
    "    possMat=np.zeros((9,9,9))\n",
    "    for i in range(array.shape[0]):\n",
    "        for j in range(array.shape[1]):\n",
    "            if array[i,j] == 0:\n",
    "                possMat[i,j,:] = create_possibility_vec(i,j,array)\n",
    "    return possMat\n",
    "\n",
    "def count_numbers(actualBox):\n",
    "    numberCountBox=[0]*10\n",
    "    for i in range(actualBox.shape[0]):\n",
    "        for j in range(actualBox.shape[1]):\n",
    "            for k in range(int(actualBox.shape[2])):\n",
    "                numberCountBox[int(actualBox[i,j,k])] += 1\n",
    "    return numberCountBox"
   ]
  },
  {
   "cell_type": "code",
   "execution_count": 250,
   "metadata": {},
   "outputs": [],
   "source": [
    "def only_possibility_case(array, possMat, flag):\n",
    "    for i in range(possMat.shape[0]):\n",
    "            for j in range(possMat.shape[1]):\n",
    "                if array[i,j] == 0 and np.count_nonzero(possMat[i,j,:]) == 1:\n",
    "                    array[i,j] = possMat[i,j,0]\n",
    "                    flag = 1\n",
    "    return array, flag\n",
    "\n",
    "def only_possibility_box(array, possMat, flag):\n",
    "    for i in range(int(possMat.shape[0]**(1/2))):\n",
    "            for j in range(int(possMat.shape[0]**(1/2))):\n",
    "                actualBox = possMat[np.ix_(range(i*3,3+i*3),range(j*3,3+j*3))]\n",
    "                vec_count_numbers = count_numbers(actualBox)\n",
    "                if 1 in vec_count_numbers:\n",
    "                    coorX = np.where(actualBox == vec_count_numbers.index(1))[0][0]\n",
    "                    coorY = np.where(actualBox == vec_count_numbers.index(1))[1][0]\n",
    "                    array[i*3 + coorX,j*3 + coorY] = count_numbers(actualBox).index(1)\n",
    "                    flag = 1\n",
    "    return array, flag\n",
    "\n",
    "#def col_row_interaction(possMat):\n",
    "#    pass"
   ]
  },
  {
   "cell_type": "code",
   "execution_count": 251,
   "metadata": {},
   "outputs": [],
   "source": [
    "\n",
    "def solve_sudok(grille):\n",
    "    grilleRemplie = np.copy(grille)\n",
    "    iterCount = 0\n",
    "    flag= 1\n",
    "    while not(np.count_nonzero(grilleRemplie) == 81 or flag == 0):\n",
    "        iterCount += 1\n",
    "        #print(iterCount)\n",
    "        if not(check_matrix(grilleRemplie)):\n",
    "            return grilleRemplie, possMat, False, iterCount\n",
    "        \n",
    "        possMat = create_possibility_matrix(grilleRemplie)\n",
    "        possMat = col_row_interaction(possMat)\n",
    "        if iterCount>3:\n",
    "            flag = 0\n",
    "        \n",
    "        grilleRemplie, flag = only_possibility_case(grilleRemplie, possMat, flag)\n",
    "        grilleRemplie, flag = only_possibility_box(grilleRemplie, possMat, flag)\n",
    "        \n",
    "        if flag==0:\n",
    "            flag2Essai = 0\n",
    "            grilleRemplieTemp, possMatTemp = get_a_number_yolo(grilleRemplie,get_coor_vec_low_poss(possMat), possMat, flag2Essai)\n",
    "            grilleRemplieTemp, possMatTemp, flag2, iterCountTemp = solve_sudok(grilleRemplieTemp)\n",
    "            \n",
    "            \n",
    "            if flag2 == True:\n",
    "                grilleRemplie = grilleRemplieTemp\n",
    "                possMat = possMatTemp\n",
    "                iterCount= iterCount+iterCountTemp\n",
    "            else:\n",
    "                if flag2Essai == 1:\n",
    "                    return grilleRemplie, possMat, False\n",
    "                else:\n",
    "                    flag2Essai = 1\n",
    "                    grilleRemplieTemp, possMatTemp = get_a_number_yolo(grilleRemplie,get_coor_vec_2_poss(possMat), possMat, flag2Essai)\n",
    "                    grilleRemplieTemp, possMatTemp, flag2, _ = solve_sudok(grilleRemplieTemp)\n",
    "                    grilleRemplie = grilleRemplieTemp\n",
    "                    possMat = possMatTemp\n",
    "                    \n",
    "        \n",
    "    if np.count_nonzero(grilleRemplie) != 81:\n",
    "        #print(\"failure\")\n",
    "        #print(grilleRemplie)\n",
    "        pass\n",
    "    else:\n",
    "        print(grilleRemplie)\n",
    "        print(\"en {} essais\".format(iterCount))\n",
    "    return grilleRemplie, possMat, True, iterCount\n",
    "                \n",
    "    "
   ]
  },
  {
   "cell_type": "code",
   "execution_count": 263,
   "metadata": {},
   "outputs": [
    {
     "name": "stdout",
     "output_type": "stream",
     "text": [
      "[[8 7 1 3 4 5 9 2 6]\n",
      " [3 4 9 7 2 6 8 5 1]\n",
      " [2 5 6 8 9 1 4 7 3]\n",
      " [4 2 7 9 1 3 5 6 8]\n",
      " [6 8 3 2 5 4 1 9 7]\n",
      " [9 1 5 6 8 7 3 4 2]\n",
      " [1 3 2 4 7 9 6 8 5]\n",
      " [7 6 4 5 3 8 2 1 9]\n",
      " [5 9 8 1 6 2 7 3 4]]\n",
      "en 9 essais\n",
      "[[8 7 1 3 4 5 9 2 6]\n",
      " [3 4 9 7 2 6 8 5 1]\n",
      " [2 5 6 8 9 1 4 7 3]\n",
      " [4 2 7 9 1 3 5 6 8]\n",
      " [6 8 3 2 5 4 1 9 7]\n",
      " [9 1 5 6 8 7 3 4 2]\n",
      " [1 3 2 4 7 9 6 8 5]\n",
      " [7 6 4 5 3 8 2 1 9]\n",
      " [5 9 8 1 6 2 7 3 4]]\n",
      "en 14 essais\n",
      "[[8 7 1 3 4 5 9 2 6]\n",
      " [3 4 9 7 2 6 8 5 1]\n",
      " [2 5 6 8 9 1 4 7 3]\n",
      " [4 2 7 9 1 3 5 6 8]\n",
      " [6 8 3 2 5 4 1 9 7]\n",
      " [9 1 5 6 8 7 3 4 2]\n",
      " [1 3 2 4 7 9 6 8 5]\n",
      " [7 6 4 5 3 8 2 1 9]\n",
      " [5 9 8 1 6 2 7 3 4]]\n"
     ]
    }
   ],
   "source": [
    "grilleRemplie,possMat,test,_= solve_sudok(grilleExpert2)\n",
    "print(grilleRemplie)"
   ]
  },
  {
   "cell_type": "code",
   "execution_count": 119,
   "metadata": {},
   "outputs": [
    {
     "data": {
      "text/plain": [
       "array([[0, 0, 0, 0, 4, 0, 0, 2, 6],\n",
       "       [3, 0, 9, 7, 2, 0, 0, 0, 0],\n",
       "       [0, 5, 0, 0, 0, 0, 4, 0, 0],\n",
       "       [0, 0, 7, 9, 1, 3, 0, 0, 0],\n",
       "       [6, 0, 3, 0, 0, 0, 0, 0, 0],\n",
       "       [0, 0, 0, 0, 0, 0, 0, 0, 2],\n",
       "       [1, 0, 0, 0, 0, 0, 0, 8, 0],\n",
       "       [0, 0, 0, 0, 0, 8, 0, 0, 9],\n",
       "       [0, 9, 0, 0, 0, 0, 7, 0, 4]])"
      ]
     },
     "execution_count": 119,
     "metadata": {},
     "output_type": "execute_result"
    }
   ],
   "source": [
    "grilleExpert2"
   ]
  },
  {
   "cell_type": "code",
   "execution_count": 244,
   "metadata": {},
   "outputs": [
    {
     "data": {
      "text/plain": [
       "7.0"
      ]
     },
     "execution_count": 244,
     "metadata": {},
     "output_type": "execute_result"
    }
   ],
   "source": [
    "grilleExpert2[0,0]\n",
    "possMat = create_possibility_matrix(grilleExpert2)\n",
    "test=np.append(get_rest_column(0,0,grilleExpert2),get_rest_line(0,0,grilleExpert2))\n",
    "get_absent_numbers(test)\n",
    "possMat\n",
    "test=get_coor_vec_low_poss(possMat)\n",
    "vec=test[0]\n",
    "#possMat[vec[0],vec[1],possMat[vec[0],vec[1],int(vec[2]*np.random.rand())]]\n",
    "possMat[vec[0],vec[1],int(vec[2]*np.random.rand())]"
   ]
  },
  {
   "cell_type": "code",
   "execution_count": 240,
   "metadata": {},
   "outputs": [
    {
     "name": "stdout",
     "output_type": "stream",
     "text": [
      "1\n",
      "0\n",
      "0\n",
      "0\n",
      "1\n",
      "1\n",
      "0\n"
     ]
    }
   ],
   "source": [
    "print(int(vec[2]*np.random.rand()))\n",
    "print(int(vec[2]*np.random.rand()))\n",
    "print(int(vec[2]*np.random.rand()))\n",
    "print(int(vec[2]*np.random.rand()))\n",
    "print(int(vec[2]*np.random.rand()))\n",
    "print(int(vec[2]*np.random.rand()))\n",
    "print(int(vec[2]*np.random.rand()))\n"
   ]
  },
  {
   "cell_type": "code",
   "execution_count": 201,
   "metadata": {},
   "outputs": [
    {
     "data": {
      "text/plain": [
       "array([[0, 0, 2],\n",
       "       [0, 1, 3],\n",
       "       [0, 2, 2],\n",
       "       [0, 3, 4],\n",
       "       [0, 5, 3],\n",
       "       [1, 1, 4],\n",
       "       [1, 5, 3],\n",
       "       [1, 6, 3],\n",
       "       [1, 7, 2],\n",
       "       [1, 8, 3],\n",
       "       [2, 0, 3],\n",
       "       [2, 2, 4],\n",
       "       [2, 3, 4],\n",
       "       [2, 4, 4],\n",
       "       [2, 5, 3],\n",
       "       [2, 7, 4],\n",
       "       [2, 8, 4],\n",
       "       [3, 0, 4],\n",
       "       [3, 1, 3],\n",
       "       [3, 6, 3],\n",
       "       [3, 7, 3],\n",
       "       [3, 8, 2],\n",
       "       [4, 1, 4],\n",
       "       [4, 3, 4],\n",
       "       [4, 4, 3],\n",
       "       [4, 5, 4],\n",
       "       [4, 6, 4],\n",
       "       [4, 8, 4],\n",
       "       [5, 0, 4],\n",
       "       [5, 1, 3],\n",
       "       [5, 2, 4],\n",
       "       [5, 3, 4],\n",
       "       [5, 4, 4],\n",
       "       [5, 5, 4],\n",
       "       [6, 2, 4],\n",
       "       [6, 6, 4],\n",
       "       [6, 8, 2],\n",
       "       [7, 0, 4],\n",
       "       [7, 2, 4],\n",
       "       [7, 4, 4],\n",
       "       [7, 7, 4],\n",
       "       [8, 0, 3],\n",
       "       [8, 2, 4],\n",
       "       [8, 4, 3],\n",
       "       [8, 5, 4],\n",
       "       [8, 7, 4]])"
      ]
     },
     "execution_count": 201,
     "metadata": {},
     "output_type": "execute_result"
    }
   ],
   "source": [
    "get_coor_vec_low_poss(possMat)"
   ]
  },
  {
   "cell_type": "code",
   "execution_count": 51,
   "metadata": {},
   "outputs": [],
   "source": [
    "possMat = create_possibility_matrix(grilleHard)\n",
    "\n",
    "def col_row_interaction(possMat): \n",
    "\n",
    "    for xbox in range(3):\n",
    "        for ybox in range(3):\n",
    "            actualBox = possMat[np.ix_(range(3*xbox,3+3*xbox),range(3*ybox,3+3*ybox))]\n",
    "            #print(actualBox)\n",
    "            posNum=np.zeros((9,3,3))\n",
    "\n",
    "            for i in range(1,10):\n",
    "                nbPoss = np.where(actualBox == i)[0].shape[0]\n",
    "                if nbPoss > 1 and nbPoss < 4:\n",
    "                    for j in range(nbPoss):\n",
    "                        x = np.where(actualBox == i)[0][j]\n",
    "                        y = np.where(actualBox == i)[1][j]\n",
    "                        z = 1\n",
    "                        pos = np.array([x,y,z])\n",
    "                        posNum[i-1,j,:] = pos\n",
    "\n",
    "                for k in range(2):\n",
    "                    if np.unique(posNum[i-1,range(np.count_nonzero(posNum[i-1,:,2])),k]).shape[0] == 1: #differente fois le meme nombre tous sur la meme ligne\n",
    "                        if k == 0:\n",
    "                            element_number = int(3*xbox+posNum[i-1,0,k])\n",
    "                        else:\n",
    "                            element_number = int(3*ybox+posNum[i-1,0,k])\n",
    "                        possMat = update_possMat(possMat, k, xbox, ybox, element_number, i)\n",
    "                        #print(\"le chiffre {} elimine le {} ème {}\".format(i, posNum[i-1,0,k], direction))\n",
    "                        #print(\"dans la boite située en ({},{})\".format(xbox,ybox))\n",
    "                        \n",
    "    return possMat\n",
    "\n",
    "\n",
    "\n",
    "\n",
    "#posNum[6,0] = \n",
    "\n",
    "#for i in range(1,10):\n",
    "    "
   ]
  },
  {
   "cell_type": "code",
   "execution_count": 52,
   "metadata": {},
   "outputs": [],
   "source": [
    "'''enum = 0\n",
    "for i in possMat[:,3,:]:\n",
    "    \n",
    "    print(enum)\n",
    "    i = np.delete(i,np.where(i == 7)[0])\n",
    "    for j in range(i.shape[0],9):\n",
    "        i = np.append(i,0)\n",
    "    #print(i)\n",
    "    possMat[enum,3,:] = i\n",
    "    enum = enum+ 1\n",
    "print(possMat[:,3,:])'''\n",
    "\n",
    "\n",
    "def update_possMat(possMat, direction, element_xbox, element_ybox, element_number, number):\n",
    "    #direction = 0 pour horizontal, 1 pour vertical\n",
    "    if direction == 1:\n",
    "        enum = 0\n",
    "        #print(element_number)\n",
    "        for i in possMat[:,element_number,:]:\n",
    "            if not(enum in range(3*element_xbox, 3+3*element_xbox)):\n",
    "                #print(enum)\n",
    "                i = np.delete(i,np.where(i == number)[0])\n",
    "                for j in range(i.shape[0],9):\n",
    "                    i = np.append(i,0)\n",
    "                #print(i)\n",
    "                possMat[enum,element_number,:] = i\n",
    "            enum = enum+ 1\n",
    "    else:\n",
    "        enum = 0\n",
    "        for i in possMat[element_number,:,:]:\n",
    "            if not(enum in range(3*element_ybox, 3+3*element_ybox)):\n",
    "                #print(enum)\n",
    "                i = np.delete(i,np.where(i == number)[0])\n",
    "                for j in range(i.shape[0],9):\n",
    "                    i = np.append(i,0)\n",
    "                #print(i)\n",
    "                possMat[element_number,enum,:] = i\n",
    "            enum = enum+ 1\n",
    "    return possMat\n",
    "\n",
    "    \n",
    "    "
   ]
  },
  {
   "cell_type": "code",
   "execution_count": 53,
   "metadata": {
    "scrolled": true
   },
   "outputs": [
    {
     "name": "stdout",
     "output_type": "stream",
     "text": [
      "[[1. 3. 5. 6. 9. 0. 0. 0. 0.]\n",
      " [1. 3. 6. 7. 0. 0. 0. 0. 0.]\n",
      " [1. 5. 6. 7. 9. 0. 0. 0. 0.]\n",
      " [0. 0. 0. 0. 0. 0. 0. 0. 0.]\n",
      " [1. 3. 5. 7. 9. 0. 0. 0. 0.]\n",
      " [2. 3. 5. 6. 7. 8. 9. 0. 0.]\n",
      " [1. 3. 6. 8. 0. 0. 0. 0. 0.]\n",
      " [1. 3. 6. 8. 0. 0. 0. 0. 0.]\n",
      " [2. 6. 8. 0. 0. 0. 0. 0. 0.]]\n",
      "[[1. 3. 5. 6. 9. 0. 0. 0. 0.]\n",
      " [1. 3. 6. 0. 0. 0. 0. 0. 0.]\n",
      " [1. 5. 6. 9. 0. 0. 0. 0. 0.]\n",
      " [0. 0. 0. 0. 0. 0. 0. 0. 0.]\n",
      " [1. 3. 5. 7. 9. 0. 0. 0. 0.]\n",
      " [2. 3. 5. 6. 7. 8. 9. 0. 0.]\n",
      " [1. 3. 6. 8. 0. 0. 0. 0. 0.]\n",
      " [1. 3. 6. 8. 0. 0. 0. 0. 0.]\n",
      " [2. 6. 8. 0. 0. 0. 0. 0. 0.]]\n"
     ]
    }
   ],
   "source": [
    "possMat=create_possibility_matrix(grilleExpert)\n",
    "print(possMat[:,3,:])\n",
    "update_possMat(possMat, 1, 1, 1, 3, 7)\n",
    "print(possMat[:,3,:])"
   ]
  },
  {
   "cell_type": "code",
   "execution_count": 54,
   "metadata": {},
   "outputs": [
    {
     "data": {
      "text/plain": [
       "True"
      ]
     },
     "execution_count": 54,
     "metadata": {},
     "output_type": "execute_result"
    }
   ],
   "source": [
    "check_matrix(grilleEasy)"
   ]
  },
  {
   "cell_type": "code",
   "execution_count": 55,
   "metadata": {},
   "outputs": [
    {
     "data": {
      "text/plain": [
       "array([[[0., 0., 0., 0., 0., 0., 0., 0., 0.],\n",
       "        [1., 3., 4., 6., 9., 0., 0., 0., 0.],\n",
       "        [1., 4., 6., 9., 0., 0., 0., 0., 0.]],\n",
       "\n",
       "       [[3., 6., 8., 0., 0., 0., 0., 0., 0.],\n",
       "        [1., 3., 4., 6., 8., 0., 0., 0., 0.],\n",
       "        [0., 0., 0., 0., 0., 0., 0., 0., 0.]],\n",
       "\n",
       "       [[2., 6., 8., 9., 0., 0., 0., 0., 0.],\n",
       "        [1., 4., 6., 8., 9., 0., 0., 0., 0.],\n",
       "        [1., 4., 6., 8., 9., 0., 0., 0., 0.]]])"
      ]
     },
     "execution_count": 55,
     "metadata": {},
     "output_type": "execute_result"
    }
   ],
   "source": [
    "actualBox = possMat[np.ix_(range(3),range(3))]\n",
    "actualBox"
   ]
  },
  {
   "cell_type": "code",
   "execution_count": 56,
   "metadata": {},
   "outputs": [],
   "source": [
    "actualBox = possMat[np.ix_(range(3),range(3))]\n",
    "\n",
    "def count_numbers(actualBox):\n",
    "    numberCountBox=[0]*10\n",
    "    for i in range(actualBox.shape[0]):\n",
    "        for j in range(actualBox.shape[1]):\n",
    "            for k in range(int(actualBox.shape[2])):\n",
    "                numberCountBox[int(actualBox[i,j,k])] += 1\n",
    "    return numberCountBox\n"
   ]
  },
  {
   "cell_type": "code",
   "execution_count": 57,
   "metadata": {},
   "outputs": [
    {
     "data": {
      "text/plain": [
       "0"
      ]
     },
     "execution_count": 57,
     "metadata": {},
     "output_type": "execute_result"
    }
   ],
   "source": [
    "np.where(actualBox==count_numbers(actualBox).index(1))[1][0]"
   ]
  },
  {
   "cell_type": "code",
   "execution_count": 58,
   "metadata": {},
   "outputs": [
    {
     "data": {
      "text/plain": [
       "2"
      ]
     },
     "execution_count": 58,
     "metadata": {},
     "output_type": "execute_result"
    }
   ],
   "source": [
    "np.where(actualBox == 2)[0][0]"
   ]
  },
  {
   "cell_type": "code",
   "execution_count": 59,
   "metadata": {},
   "outputs": [
    {
     "data": {
      "text/plain": [
       "3.0"
      ]
     },
     "execution_count": 59,
     "metadata": {},
     "output_type": "execute_result"
    }
   ],
   "source": [
    "possMat.shape[0]**(1/2)"
   ]
  },
  {
   "cell_type": "code",
   "execution_count": 60,
   "metadata": {},
   "outputs": [
    {
     "data": {
      "text/plain": [
       "2"
      ]
     },
     "execution_count": 60,
     "metadata": {},
     "output_type": "execute_result"
    }
   ],
   "source": [
    "count_numbers(actualBox).index(1)"
   ]
  },
  {
   "cell_type": "code",
   "execution_count": 61,
   "metadata": {},
   "outputs": [
    {
     "data": {
      "text/plain": [
       "False"
      ]
     },
     "execution_count": 61,
     "metadata": {},
     "output_type": "execute_result"
    }
   ],
   "source": [
    "4 in range(3)"
   ]
  },
  {
   "cell_type": "code",
   "execution_count": 62,
   "metadata": {},
   "outputs": [
    {
     "data": {
      "text/plain": [
       "22"
      ]
     },
     "execution_count": 62,
     "metadata": {},
     "output_type": "execute_result"
    }
   ],
   "source": [
    "np.count_nonzero(grilleExpert)"
   ]
  },
  {
   "cell_type": "code",
   "execution_count": 63,
   "metadata": {},
   "outputs": [
    {
     "data": {
      "text/plain": [
       "25"
      ]
     },
     "execution_count": 63,
     "metadata": {},
     "output_type": "execute_result"
    }
   ],
   "source": [
    "np.count_nonzero(grilleHard)"
   ]
  },
  {
   "cell_type": "code",
   "execution_count": 64,
   "metadata": {},
   "outputs": [
    {
     "ename": "SyntaxError",
     "evalue": "invalid syntax (<ipython-input-64-bb4140eef700>, line 1)",
     "output_type": "error",
     "traceback": [
      "\u001b[1;36m  File \u001b[1;32m\"<ipython-input-64-bb4140eef700>\"\u001b[1;36m, line \u001b[1;32m1\u001b[0m\n\u001b[1;33m    possMat[range(6,9),,:]\u001b[0m\n\u001b[1;37m                       ^\u001b[0m\n\u001b[1;31mSyntaxError\u001b[0m\u001b[1;31m:\u001b[0m invalid syntax\n"
     ]
    }
   ],
   "source": [
    "possMat[range(6,9),,:]"
   ]
  },
  {
   "cell_type": "code",
   "execution_count": 65,
   "metadata": {},
   "outputs": [
    {
     "name": "stdout",
     "output_type": "stream",
     "text": [
      "[[[1. 3. 6. 8. 0. 0. 0. 0. 0.]\n",
      "  [1. 3. 6. 0. 0. 0. 0. 0. 0.]\n",
      "  [0. 0. 0. 0. 0. 0. 0. 0. 0.]]\n",
      "\n",
      " [[1. 3. 6. 8. 0. 0. 0. 0. 0.]\n",
      "  [0. 0. 0. 0. 0. 0. 0. 0. 0.]\n",
      "  [1. 3. 4. 6. 8. 0. 0. 0. 0.]]\n",
      "\n",
      " [[2. 6. 8. 0. 0. 0. 0. 0. 0.]\n",
      "  [6. 0. 0. 0. 0. 0. 0. 0. 0.]\n",
      "  [0. 0. 0. 0. 0. 0. 0. 0. 0.]]]\n"
     ]
    }
   ],
   "source": [
    "print(possMat[np.ix_(range(6,9),range(3,6))])"
   ]
  },
  {
   "cell_type": "code",
   "execution_count": 66,
   "metadata": {},
   "outputs": [
    {
     "ename": "ValueError",
     "evalue": "all the input array dimensions for the concatenation axis must match exactly, but along dimension 1, the array at index 0 has size 0 and the array at index 1 has size 2",
     "output_type": "error",
     "traceback": [
      "\u001b[1;31m---------------------------------------------------------------------------\u001b[0m",
      "\u001b[1;31mValueError\u001b[0m                                Traceback (most recent call last)",
      "\u001b[1;32m<ipython-input-66-36f98647df89>\u001b[0m in \u001b[0;36m<module>\u001b[1;34m\u001b[0m\n\u001b[0;32m      1\u001b[0m \u001b[0mx\u001b[0m\u001b[1;33m=\u001b[0m\u001b[0mnp\u001b[0m\u001b[1;33m.\u001b[0m\u001b[0marray\u001b[0m\u001b[1;33m(\u001b[0m\u001b[1;33m[\u001b[0m\u001b[1;33m[\u001b[0m\u001b[1;33m]\u001b[0m\u001b[1;33m]\u001b[0m\u001b[1;33m)\u001b[0m\u001b[1;33m\u001b[0m\u001b[1;33m\u001b[0m\u001b[0m\n\u001b[1;32m----> 2\u001b[1;33m \u001b[0mx\u001b[0m \u001b[1;33m=\u001b[0m \u001b[0mnp\u001b[0m\u001b[1;33m.\u001b[0m\u001b[0mconcatenate\u001b[0m\u001b[1;33m(\u001b[0m\u001b[1;33m(\u001b[0m\u001b[0mx\u001b[0m\u001b[1;33m,\u001b[0m \u001b[0mnp\u001b[0m\u001b[1;33m.\u001b[0m\u001b[0marray\u001b[0m\u001b[1;33m(\u001b[0m\u001b[1;33m[\u001b[0m\u001b[1;33m[\u001b[0m\u001b[1;36m1\u001b[0m\u001b[1;33m,\u001b[0m\u001b[1;36m2\u001b[0m\u001b[1;33m]\u001b[0m\u001b[1;33m]\u001b[0m\u001b[1;33m)\u001b[0m\u001b[1;33m)\u001b[0m\u001b[1;33m,\u001b[0m \u001b[0maxis\u001b[0m \u001b[1;33m=\u001b[0m \u001b[1;36m0\u001b[0m\u001b[1;33m)\u001b[0m\u001b[1;33m\u001b[0m\u001b[1;33m\u001b[0m\u001b[0m\n\u001b[0m\u001b[0;32m      3\u001b[0m \u001b[0mx\u001b[0m \u001b[1;33m=\u001b[0m \u001b[0mnp\u001b[0m\u001b[1;33m.\u001b[0m\u001b[0mconcatenate\u001b[0m\u001b[1;33m(\u001b[0m\u001b[1;33m(\u001b[0m\u001b[0mx\u001b[0m\u001b[1;33m,\u001b[0m \u001b[0mnp\u001b[0m\u001b[1;33m.\u001b[0m\u001b[0marray\u001b[0m\u001b[1;33m(\u001b[0m\u001b[1;33m[\u001b[0m\u001b[1;33m[\u001b[0m\u001b[1;36m1\u001b[0m\u001b[1;33m,\u001b[0m\u001b[1;36m2\u001b[0m\u001b[1;33m]\u001b[0m\u001b[1;33m]\u001b[0m\u001b[1;33m)\u001b[0m\u001b[1;33m)\u001b[0m\u001b[1;33m,\u001b[0m \u001b[0maxis\u001b[0m \u001b[1;33m=\u001b[0m \u001b[1;36m0\u001b[0m\u001b[1;33m)\u001b[0m\u001b[1;33m\u001b[0m\u001b[1;33m\u001b[0m\u001b[0m\n",
      "\u001b[1;32m<__array_function__ internals>\u001b[0m in \u001b[0;36mconcatenate\u001b[1;34m(*args, **kwargs)\u001b[0m\n",
      "\u001b[1;31mValueError\u001b[0m: all the input array dimensions for the concatenation axis must match exactly, but along dimension 1, the array at index 0 has size 0 and the array at index 1 has size 2"
     ]
    }
   ],
   "source": [
    "x=np.array([[]])\n",
    "x = np.concatenate((x, np.array([[1,2]])), axis = 0)\n",
    "x = np.concatenate((x, np.array([[1,2]])), axis = 0)"
   ]
  },
  {
   "cell_type": "code",
   "execution_count": 67,
   "metadata": {},
   "outputs": [
    {
     "data": {
      "text/plain": [
       "array([], shape=(1, 0), dtype=float64)"
      ]
     },
     "execution_count": 67,
     "metadata": {},
     "output_type": "execute_result"
    }
   ],
   "source": [
    "x"
   ]
  },
  {
   "cell_type": "code",
   "execution_count": 68,
   "metadata": {},
   "outputs": [
    {
     "data": {
      "text/plain": [
       "0"
      ]
     },
     "execution_count": 68,
     "metadata": {},
     "output_type": "execute_result"
    }
   ],
   "source": [
    "np.array([[]]).shape[1]"
   ]
  },
  {
   "cell_type": "code",
   "execution_count": 69,
   "metadata": {},
   "outputs": [
    {
     "data": {
      "text/plain": [
       "1"
      ]
     },
     "execution_count": 69,
     "metadata": {},
     "output_type": "execute_result"
    }
   ],
   "source": [
    "int(2*np.random.rand())"
   ]
  },
  {
   "cell_type": "code",
   "execution_count": 70,
   "metadata": {},
   "outputs": [],
   "source": [
    "coor_vec_2_poss = np.array([1,2])"
   ]
  },
  {
   "cell_type": "code",
   "execution_count": 71,
   "metadata": {},
   "outputs": [
    {
     "data": {
      "text/plain": [
       "1"
      ]
     },
     "execution_count": 71,
     "metadata": {},
     "output_type": "execute_result"
    }
   ],
   "source": [
    "coor_vec_2_poss[0]"
   ]
  },
  {
   "cell_type": "code",
   "execution_count": 72,
   "metadata": {},
   "outputs": [],
   "source": [
    "test = get_coor_vec_2_poss(possMat)"
   ]
  },
  {
   "cell_type": "code",
   "execution_count": 73,
   "metadata": {},
   "outputs": [
    {
     "data": {
      "text/plain": [
       "array([[4, 0],\n",
       "       [7, 0]])"
      ]
     },
     "execution_count": 73,
     "metadata": {},
     "output_type": "execute_result"
    }
   ],
   "source": [
    "test"
   ]
  },
  {
   "cell_type": "code",
   "execution_count": 74,
   "metadata": {},
   "outputs": [
    {
     "data": {
      "text/plain": [
       "array([[7, 0, 4, 0, 8, 0, 5, 0, 2],\n",
       "       [8, 0, 5, 0, 2, 0, 0, 4, 9],\n",
       "       [2, 0, 0, 0, 4, 0, 3, 0, 0],\n",
       "       [5, 0, 0, 4, 7, 0, 1, 0, 0],\n",
       "       [3, 4, 2, 9, 1, 9, 8, 6, 5],\n",
       "       [1, 0, 0, 0, 5, 0, 0, 0, 4],\n",
       "       [9, 2, 1, 8, 3, 7, 4, 5, 6],\n",
       "       [6, 5, 0, 1, 9, 4, 2, 0, 0],\n",
       "       [4, 0, 3, 2, 6, 5, 9, 0, 1]])"
      ]
     },
     "execution_count": 74,
     "metadata": {},
     "output_type": "execute_result"
    }
   ],
   "source": [
    "grilleRemplie"
   ]
  },
  {
   "cell_type": "code",
   "execution_count": 75,
   "metadata": {},
   "outputs": [
    {
     "ename": "TypeError",
     "evalue": "get_a_number_yolo() missing 1 required positional argument: 'elementNumber'",
     "output_type": "error",
     "traceback": [
      "\u001b[1;31m---------------------------------------------------------------------------\u001b[0m",
      "\u001b[1;31mTypeError\u001b[0m                                 Traceback (most recent call last)",
      "\u001b[1;32m<ipython-input-75-a372883b10b8>\u001b[0m in \u001b[0;36m<module>\u001b[1;34m\u001b[0m\n\u001b[1;32m----> 1\u001b[1;33m \u001b[0mget_a_number_yolo\u001b[0m\u001b[1;33m(\u001b[0m\u001b[0mgrilleRemplie\u001b[0m\u001b[1;33m,\u001b[0m \u001b[0mtest\u001b[0m\u001b[1;33m,\u001b[0m \u001b[0mpossMat\u001b[0m\u001b[1;33m)\u001b[0m\u001b[1;33m\u001b[0m\u001b[1;33m\u001b[0m\u001b[0m\n\u001b[0m",
      "\u001b[1;31mTypeError\u001b[0m: get_a_number_yolo() missing 1 required positional argument: 'elementNumber'"
     ]
    }
   ],
   "source": [
    "get_a_number_yolo(grilleRemplie, test, possMat)"
   ]
  },
  {
   "cell_type": "code",
   "execution_count": 76,
   "metadata": {},
   "outputs": [
    {
     "data": {
      "text/plain": [
       "array([2., 5., 6., 7., 8., 0., 0., 0., 0.])"
      ]
     },
     "execution_count": 76,
     "metadata": {},
     "output_type": "execute_result"
    }
   ],
   "source": [
    "possMat[2,8,:]"
   ]
  },
  {
   "cell_type": "code",
   "execution_count": 77,
   "metadata": {},
   "outputs": [
    {
     "data": {
      "text/plain": [
       "array([1, 2, 3, 1])"
      ]
     },
     "execution_count": 77,
     "metadata": {},
     "output_type": "execute_result"
    }
   ],
   "source": [
    "X=np.array([1,2,3])\n",
    "np.append(X,1)"
   ]
  },
  {
   "cell_type": "code",
   "execution_count": 78,
   "metadata": {},
   "outputs": [],
   "source": [
    "def yolo(X):\n",
    "    X=np.append(X,1)\n",
    "    return X"
   ]
  },
  {
   "cell_type": "code",
   "execution_count": 79,
   "metadata": {},
   "outputs": [
    {
     "data": {
      "text/plain": [
       "array([1, 2, 3, 1])"
      ]
     },
     "execution_count": 79,
     "metadata": {},
     "output_type": "execute_result"
    }
   ],
   "source": [
    "yolo(X)"
   ]
  },
  {
   "cell_type": "code",
   "execution_count": 80,
   "metadata": {},
   "outputs": [
    {
     "data": {
      "text/plain": [
       "array([1, 2, 3])"
      ]
     },
     "execution_count": 80,
     "metadata": {},
     "output_type": "execute_result"
    }
   ],
   "source": [
    "X"
   ]
  },
  {
   "cell_type": "code",
   "execution_count": 81,
   "metadata": {},
   "outputs": [
    {
     "data": {
      "text/plain": [
       "array([[7, 0, 4, 0, 8, 0, 5, 0, 2],\n",
       "       [8, 0, 5, 0, 2, 0, 0, 4, 9],\n",
       "       [2, 0, 0, 0, 4, 0, 3, 0, 0],\n",
       "       [5, 0, 0, 4, 7, 0, 1, 0, 0],\n",
       "       [3, 4, 2, 9, 1, 9, 8, 6, 5],\n",
       "       [1, 0, 0, 0, 5, 0, 0, 0, 4],\n",
       "       [9, 2, 1, 8, 3, 7, 4, 5, 6],\n",
       "       [6, 5, 0, 1, 9, 4, 2, 0, 0],\n",
       "       [4, 0, 3, 2, 6, 5, 9, 0, 1]])"
      ]
     },
     "execution_count": 81,
     "metadata": {},
     "output_type": "execute_result"
    }
   ],
   "source": [
    "grilleRemplie"
   ]
  },
  {
   "cell_type": "code",
   "execution_count": 82,
   "metadata": {},
   "outputs": [
    {
     "data": {
      "text/plain": [
       "array([[7, 0, 0, 0, 8, 0, 0, 0, 0],\n",
       "       [0, 0, 5, 0, 2, 0, 0, 0, 9],\n",
       "       [0, 0, 0, 0, 0, 0, 3, 0, 0],\n",
       "       [5, 0, 0, 4, 0, 0, 0, 0, 0],\n",
       "       [0, 0, 2, 0, 0, 0, 8, 6, 0],\n",
       "       [1, 0, 0, 0, 0, 0, 0, 0, 4],\n",
       "       [0, 2, 0, 0, 0, 7, 4, 0, 0],\n",
       "       [0, 0, 0, 0, 9, 0, 2, 0, 0],\n",
       "       [4, 0, 3, 0, 0, 5, 0, 0, 1]])"
      ]
     },
     "execution_count": 82,
     "metadata": {},
     "output_type": "execute_result"
    }
   ],
   "source": [
    "grilleExpert"
   ]
  },
  {
   "cell_type": "code",
   "execution_count": 83,
   "metadata": {},
   "outputs": [
    {
     "data": {
      "text/plain": [
       "False"
      ]
     },
     "execution_count": 83,
     "metadata": {},
     "output_type": "execute_result"
    }
   ],
   "source": [
    "check_matrix(grilleRemplie)"
   ]
  },
  {
   "cell_type": "code",
   "execution_count": null,
   "metadata": {},
   "outputs": [],
   "source": []
  },
  {
   "cell_type": "code",
   "execution_count": null,
   "metadata": {},
   "outputs": [],
   "source": []
  },
  {
   "cell_type": "code",
   "execution_count": null,
   "metadata": {},
   "outputs": [],
   "source": []
  }
 ],
 "metadata": {
  "kernelspec": {
   "display_name": "Python 3",
   "language": "python",
   "name": "python3"
  },
  "language_info": {
   "codemirror_mode": {
    "name": "ipython",
    "version": 3
   },
   "file_extension": ".py",
   "mimetype": "text/x-python",
   "name": "python",
   "nbconvert_exporter": "python",
   "pygments_lexer": "ipython3",
   "version": "3.7.4"
  }
 },
 "nbformat": 4,
 "nbformat_minor": 2
}
